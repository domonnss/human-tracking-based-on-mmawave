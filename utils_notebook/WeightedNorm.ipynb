{
 "cells": [
  {
   "cell_type": "markdown",
   "metadata": {},
   "source": [
    "import:\n",
    "    X:三维特征向量\n",
    "    alpha:z轴权重\n",
    "output:\n",
    "    weightedDistance\n"
   ]
  },
  {
   "cell_type": "code",
   "execution_count": null,
   "metadata": {},
   "outputs": [],
   "source": [
    "%cd c://Users//28763//Desktop//毕设python"
   ]
  },
  {
   "cell_type": "code",
   "execution_count": null,
   "metadata": {},
   "outputs": [],
   "source": [
    "import numpy as np\n",
    "import sys\n",
    "\n",
    "sys.path.append(\"..\")\n",
    "from utils.DataLoader import *"
   ]
  },
  {
   "cell_type": "code",
   "execution_count": null,
   "metadata": {},
   "outputs": [],
   "source": [
    "loader = DataLoader(\"room1\", 1)\n",
    "data, frames = loader.load()\n",
    "# for frame in frames:\n",
    "tempData = data[data[\"Frame #\"] == 28]\n",
    "X = tempData.iloc[:, 2:5]"
   ]
  },
  {
   "cell_type": "code",
   "execution_count": null,
   "metadata": {},
   "outputs": [],
   "source": [
    "def weightedNorm(X, alpha):\n",
    "    beta = (3 - alpha) / 2\n",
    "    weights = np.array([beta, beta, alpha])\n",
    "    return np.sqrt(np.sum(weights * X**2))"
   ]
  },
  {
   "cell_type": "code",
   "execution_count": null,
   "metadata": {},
   "outputs": [],
   "source": [
    "X = np.arange(6).reshape(-1, 3)\n",
    "\n",
    "weightedNorm(X[0] - X[1], 0.6)"
   ]
  },
  {
   "cell_type": "code",
   "execution_count": 2,
   "metadata": {},
   "outputs": [
    {
     "name": "stdout",
     "output_type": "stream",
     "text": [
      "\n",
      "合并多列为datetime后的DataFrame：\n",
      "          date   time   combined_datetime\n",
      "0  2022-01-01  12:30 2022-01-01 12:30:00\n",
      "1  2022-02-15  18:45 2022-02-15 18:45:00\n"
     ]
    }
   ],
   "source": [
    "# 多列合并为datetime\n",
    "import pandas as pd\n",
    "\n",
    "df = pd.DataFrame()\n",
    "df[\"date\"] = [\"2022-01-01\", \"2022-02-15\"]\n",
    "df[\"time\"] = [\"12:30\", \"18:45\"]\n",
    "df[\"combined_datetime\"] = pd.to_datetime(df[\"date\"] + \" \" + df[\"time\"])\n",
    "\n",
    "# 输出合并后的DataFrame\n",
    "print(\"\\n合并多列为datetime后的DataFrame：\\n\", df)"
   ]
  }
 ],
 "metadata": {
  "kernelspec": {
   "display_name": "d2l",
   "language": "python",
   "name": "python3"
  },
  "language_info": {
   "codemirror_mode": {
    "name": "ipython",
    "version": 3
   },
   "file_extension": ".py",
   "mimetype": "text/x-python",
   "name": "python",
   "nbconvert_exporter": "python",
   "pygments_lexer": "ipython3",
   "version": "3.10.16"
  }
 },
 "nbformat": 4,
 "nbformat_minor": 2
}
