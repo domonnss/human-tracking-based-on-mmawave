{
 "cells": [
  {
   "cell_type": "code",
   "execution_count": 3,
   "metadata": {},
   "outputs": [],
   "source": [
    "import pandas as pd\n",
    "import glob\n",
    "import os"
   ]
  },
  {
   "cell_type": "code",
   "execution_count": 4,
   "metadata": {},
   "outputs": [
    {
     "data": {
      "text/plain": [
       "(6023, 66042)"
      ]
     },
     "execution_count": 4,
     "metadata": {},
     "output_type": "execute_result"
    }
   ],
   "source": [
    "data_dir = \"../people-gait/room1/1/fixed_route/77Ghz_radar/\"\n",
    "targetDir = os.path.join(data_dir, \"*.csv\")\n",
    "filePath = glob.glob(targetDir)\n",
    "\n",
    "dfs = []\n",
    "for file in filePath:\n",
    "    df = pd.read_csv(file, sep=\",\", skip_blank_lines=True)\n",
    "    dfs.append(df)\n",
    "\n",
    "combinedDf = pd.concat(dfs, ignore_index=True)\n",
    "combinedDf[\"timestamp\"] = pd.to_datetime(\n",
    "    {\n",
    "        \"year\": combinedDf[\"y\"],\n",
    "        \"month\": combinedDf[\"m\"],\n",
    "        \"day\": combinedDf[\"d\"],\n",
    "        \"hour\": combinedDf[\"h\"],\n",
    "        \"minute\": combinedDf[\"m.1\"],  # 分钟列（重命名为m.1）\n",
    "        \"second\": combinedDf[\"s\"].astype(float),  # 整数秒部分\n",
    "    }\n",
    ")  # 处理小数秒\n",
    "uniqueFrame = combinedDf[\"timestamp\"].unique().size\n",
    "uniqueid = combinedDf[\"Frame #\"].nunique()\n",
    "uniqueid, uniqueFrame"
   ]
  },
  {
   "cell_type": "code",
   "execution_count": 6,
   "metadata": {},
   "outputs": [
    {
     "ename": "ValueError",
     "evalue": "The truth value of an array with more than one element is ambiguous. Use a.any() or a.all()",
     "output_type": "error",
     "traceback": [
      "\u001b[1;31m---------------------------------------------------------------------------\u001b[0m",
      "\u001b[1;31mValueError\u001b[0m                                Traceback (most recent call last)",
      "Cell \u001b[1;32mIn[6], line 1\u001b[0m\n\u001b[1;32m----> 1\u001b[0m \u001b[38;5;28;01mif\u001b[39;00m \u001b[43mcombinedDf\u001b[49m\u001b[43m[\u001b[49m\u001b[38;5;124;43m\"\u001b[39;49m\u001b[38;5;124;43m# Obj\u001b[39;49m\u001b[38;5;124;43m\"\u001b[39;49m\u001b[43m]\u001b[49m\u001b[38;5;241;43m.\u001b[39;49m\u001b[43mvalues\u001b[49m\u001b[43m \u001b[49m\u001b[38;5;241;43m<\u001b[39;49m\u001b[43m \u001b[49m\u001b[38;5;241;43m5\u001b[39;49m:\n\u001b[0;32m      2\u001b[0m     \u001b[38;5;28mprint\u001b[39m(\u001b[38;5;124m\"\u001b[39m\u001b[38;5;124mhello\u001b[39m\u001b[38;5;124m\"\u001b[39m)\n",
      "\u001b[1;31mValueError\u001b[0m: The truth value of an array with more than one element is ambiguous. Use a.any() or a.all()"
     ]
    }
   ],
   "source": [
    "if combinedDf[\"# Obj\"].values < 5:\n",
    "    print(\"hello\")"
   ]
  }
 ],
 "metadata": {
  "kernelspec": {
   "display_name": "d2l",
   "language": "python",
   "name": "python3"
  },
  "language_info": {
   "codemirror_mode": {
    "name": "ipython",
    "version": 3
   },
   "file_extension": ".py",
   "mimetype": "text/x-python",
   "name": "python",
   "nbconvert_exporter": "python",
   "pygments_lexer": "ipython3",
   "version": "3.10.16"
  }
 },
 "nbformat": 4,
 "nbformat_minor": 2
}
