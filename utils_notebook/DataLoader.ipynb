{
 "cells": [
  {
   "cell_type": "code",
   "execution_count": 1,
   "metadata": {},
   "outputs": [],
   "source": [
    "import pandas as pd\n",
    "import glob\n",
    "import os"
   ]
  },
  {
   "cell_type": "code",
   "execution_count": 6,
   "metadata": {},
   "outputs": [
    {
     "data": {
      "text/plain": [
       "(6023, 66042)"
      ]
     },
     "execution_count": 6,
     "metadata": {},
     "output_type": "execute_result"
    }
   ],
   "source": [
    "data_dir = \"../people-gait/room1/1/fixed_route/77Ghz_radar/\"\n",
    "targetDir = os.path.join(data_dir, \"*.csv\")\n",
    "filePath = glob.glob(targetDir)\n",
    "\n",
    "dfs = []\n",
    "for file in filePath:\n",
    "    df = pd.read_csv(file, sep=\",\", skip_blank_lines=True)\n",
    "    dfs.append(df)\n",
    "\n",
    "combinedDf = pd.concat(dfs, ignore_index=True)\n",
    "combinedDf[\"timestamp\"] = pd.to_datetime(\n",
    "    {\n",
    "        \"year\": combinedDf[\"y\"],\n",
    "        \"month\": combinedDf[\"m\"],\n",
    "        \"day\": combinedDf[\"d\"],\n",
    "        \"hour\": combinedDf[\"h\"],\n",
    "        \"minute\": combinedDf[\"m.1\"],  # 分钟列（重命名为m.1）\n",
    "        \"second\": combinedDf[\"s\"].astype(float),  # 整数秒部分\n",
    "    }\n",
    ")  # 处理小数秒\n",
    "uniqueFrame = combinedDf[\"timestamp\"].unique().size\n",
    "uniqueid = combinedDf[\"Frame #\"].nunique()\n",
    "uniqueid, uniqueFrame"
   ]
  },
  {
   "cell_type": "code",
   "execution_count": null,
   "metadata": {},
   "outputs": [],
   "source": []
  }
 ],
 "metadata": {
  "kernelspec": {
   "display_name": "d2l",
   "language": "python",
   "name": "python3"
  },
  "language_info": {
   "codemirror_mode": {
    "name": "ipython",
    "version": 3
   },
   "file_extension": ".py",
   "mimetype": "text/x-python",
   "name": "python",
   "nbconvert_exporter": "python",
   "pygments_lexer": "ipython3",
   "version": "3.10.16"
  }
 },
 "nbformat": 4,
 "nbformat_minor": 2
}
