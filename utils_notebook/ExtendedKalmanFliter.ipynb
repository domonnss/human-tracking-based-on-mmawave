{
 "cells": [
  {
   "cell_type": "code",
   "execution_count": null,
   "metadata": {},
   "outputs": [],
   "source": [
    "%cd c://Users//28763//Desktop//GraduationProjectCode"
   ]
  },
  {
   "cell_type": "code",
   "execution_count": null,
   "metadata": {},
   "outputs": [],
   "source": [
    "import numpy as np\n",
    "import matplotlib.pyplot as plt\n",
    "from filterpy.kalman import KalmanFilter"
   ]
  },
  {
   "cell_type": "code",
   "execution_count": null,
   "metadata": {},
   "outputs": [],
   "source": [
    "x_true = np.arange(\n",
    "    0,\n",
    "    100,\n",
    "    0.1,\n",
    ").reshape(-1, 1)\n",
    "y_true = (x_true * 10 + 1).reshape(-1, 1)\n",
    "\n",
    "x_watched = x_true + np.random.normal(0, 1, (len(x_true),)).reshape(-1, 1)\n",
    "y_watched = y_true + np.random.normal(0, 1, (len(x_true),)).reshape(-1, 1)"
   ]
  },
  {
   "cell_type": "code",
   "execution_count": null,
   "metadata": {},
   "outputs": [],
   "source": [
    "x_true = np.arange(0, 100, 0.1)\n",
    "y_true = x_true * 10 + 1\n",
    "\n",
    "x_watched = x_true + np.random.normal(0, 1, (len(x_true),))\n",
    "y_watched = y_true + np.random.normal(0, 1, (len(x_true),))"
   ]
  },
  {
   "cell_type": "code",
   "execution_count": null,
   "metadata": {},
   "outputs": [],
   "source": [
    "# 设置初始状态\n",
    "init_point = np.asarray([x_true[0], y_true[0], 0.1, 1])\n",
    "\n",
    "\n",
    "kf = KalmanFilter(dim_x=4, dim_z=2)\n",
    "\n",
    "# position, velocity\n",
    "kf.x = init_point\n",
    "kf.F = np.array(\n",
    "    [\n",
    "        [1, 0, 1, 0],\n",
    "        [0, 1, 0, 1],\n",
    "        [0, 0, 1, 0],\n",
    "        [0, 0, 0, 1],\n",
    "    ]\n",
    ")\n",
    "kf.R = np.array(\n",
    "    [\n",
    "        [\n",
    "            1,\n",
    "            0,\n",
    "        ],\n",
    "        [\n",
    "            0,\n",
    "            1,\n",
    "        ],\n",
    "    ]\n",
    ")\n",
    "kf.H = np.array(\n",
    "    [\n",
    "        [1, 0, 0, 0],\n",
    "        [0, 1, 0, 0],\n",
    "    ]\n",
    ")\n",
    "\n",
    "kf.P = np.array(\n",
    "    [\n",
    "        [10, 0, 0, 0],\n",
    "        [0, 10, 0, 0],\n",
    "        [0, 0, 1000, 0],\n",
    "        [0, 0, 0, 1000],\n",
    "    ]\n",
    ")\n",
    "kf.Q = np.array(\n",
    "    [\n",
    "        [0.01, 0, 0, 0],\n",
    "        [0, 0.01, 0, 0],\n",
    "        [0, 0, 0.01, 0],\n",
    "        [0, 0, 0, 0.01],\n",
    "    ]\n",
    ")"
   ]
  },
  {
   "cell_type": "code",
   "execution_count": null,
   "metadata": {},
   "outputs": [],
   "source": [
    "x_filtered = []\n",
    "y_filtered = []\n",
    "\n",
    "for x, y in zip(x_watched[1:], y_watched[1:]):\n",
    "    kf.predict()\n",
    "    kf.update([x, y])\n",
    "    # 保存滤波后的值\n",
    "    x_filtered.append(kf.x[0])\n",
    "    y_filtered.append(kf.x[1])"
   ]
  },
  {
   "cell_type": "code",
   "execution_count": null,
   "metadata": {},
   "outputs": [],
   "source": [
    "# plt.rcParams[\"font.sans-serif\"] = [\"SimHei\"]\n",
    "# plt.rcParams[\"axes.unicode_minus\"] = False\n",
    "\n",
    "plt.figure()\n",
    "plt.scatter(x_true[::20], y_true[::20], c=\"r\", marker=\"o\", label=\"真实值\")\n",
    "plt.scatter(x_watched[::20], y_watched[::20], c=\"b\", marker=\"x\", label=\"观测值\")\n",
    "plt.scatter(\n",
    "    x_filtered[::20], y_filtered[::20], c=\"g\", marker=\"*\", label=\"卡尔曼滤波滤波值\"\n",
    ")\n",
    "plt.legend()\n",
    "plt.show()"
   ]
  }
 ],
 "metadata": {
  "kernelspec": {
   "display_name": "d2l",
   "language": "python",
   "name": "python3"
  },
  "language_info": {
   "codemirror_mode": {
    "name": "ipython",
    "version": 3
   },
   "file_extension": ".py",
   "mimetype": "text/x-python",
   "name": "python",
   "nbconvert_exporter": "python",
   "pygments_lexer": "ipython3",
   "version": "3.10.16"
  }
 },
 "nbformat": 4,
 "nbformat_minor": 2
}
